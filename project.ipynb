%matplotlib inline

import cv2
import matplotlib.pyplot as plt
import os, requests
import numpy as np
import matplotlib.image as mpimg
import cv2
import requests
import shutil

!pip install -q kaggle
from google.colab import files
files.upload()

!mkdir -p ~/.kaggle
!cp kaggle.json ~/.kaggle/
!chmod 600 ~/.kaggle/kaggle.json

!kaggle datasets download -d andrewmvd/tomato-detection
!unzip 'tomato-detection.zip'

filenames = []
images = []

for filename in os.listdir('images'):
  filenames.append(filename)
  image = cv2.imread("images/"+filename)
  image = cv2.cvtColor(image,cv2.COLOR_BGR2GRAY)
  image = image / 255
  images.append(image)
  #print(images)

images = np.array(images)
